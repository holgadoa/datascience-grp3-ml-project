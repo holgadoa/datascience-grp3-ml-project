{
 "cells": [
  {
   "cell_type": "code",
   "execution_count": 1,
   "id": "053baa91",
   "metadata": {},
   "outputs": [],
   "source": [
    "import pandas as pd\n",
    "import numpy as np\n",
    "import matplotlib.pyplot as plt\n",
    "import seaborn as sns\n",
    "from sklearn.preprocessing import LabelEncoder, StandardScaler\n",
    "from sklearn.model_selection import train_test_split, RandomizedSearchCV\n",
    "from sklearn.linear_model import LinearRegression\n",
    "from sklearn.metrics import r2_score, mean_absolute_error, mean_squared_error\n",
    "from sklearn.ensemble import RandomForestRegressor, GradientBoostingRegressor # Added Gradient Boosting\n",
    "from scipy.stats import randint, uniform # For RandomizedSearchCV"
   ]
  },
  {
   "cell_type": "code",
   "execution_count": 2,
   "id": "4ee6694b",
   "metadata": {},
   "outputs": [
    {
     "name": "stdout",
     "output_type": "stream",
     "text": [
      "# --- 1. Initializing modules and loading data from dataset ---\n"
     ]
    },
    {
     "ename": "FileNotFoundError",
     "evalue": "[Errno 2] No such file or directory: 'coffee_sales.csv'",
     "output_type": "error",
     "traceback": [
      "\u001b[31m---------------------------------------------------------------------------\u001b[39m",
      "\u001b[31mFileNotFoundError\u001b[39m                         Traceback (most recent call last)",
      "\u001b[36mCell\u001b[39m\u001b[36m \u001b[39m\u001b[32mIn[2]\u001b[39m\u001b[32m, line 2\u001b[39m\n\u001b[32m      1\u001b[39m \u001b[38;5;28mprint\u001b[39m(\u001b[33m\"\u001b[39m\u001b[33m# --- 1. Initializing modules and loading data from dataset ---\u001b[39m\u001b[33m\"\u001b[39m)\n\u001b[32m----> \u001b[39m\u001b[32m2\u001b[39m df = \u001b[43mpd\u001b[49m\u001b[43m.\u001b[49m\u001b[43mread_csv\u001b[49m\u001b[43m(\u001b[49m\u001b[33;43m'\u001b[39;49m\u001b[33;43mcoffee_sales.csv\u001b[39;49m\u001b[33;43m'\u001b[39;49m\u001b[43m)\u001b[49m\n\u001b[32m      3\u001b[39m \u001b[38;5;28mprint\u001b[39m(\u001b[33m\"\u001b[39m\u001b[33mOriginal DataFrame Head:\u001b[39m\u001b[33m\"\u001b[39m)\n\u001b[32m      4\u001b[39m \u001b[38;5;28mprint\u001b[39m(df.head())\n",
      "\u001b[36mFile \u001b[39m\u001b[32md:\\venvs\\ml_env\\Lib\\site-packages\\pandas\\io\\parsers\\readers.py:1026\u001b[39m, in \u001b[36mread_csv\u001b[39m\u001b[34m(filepath_or_buffer, sep, delimiter, header, names, index_col, usecols, dtype, engine, converters, true_values, false_values, skipinitialspace, skiprows, skipfooter, nrows, na_values, keep_default_na, na_filter, verbose, skip_blank_lines, parse_dates, infer_datetime_format, keep_date_col, date_parser, date_format, dayfirst, cache_dates, iterator, chunksize, compression, thousands, decimal, lineterminator, quotechar, quoting, doublequote, escapechar, comment, encoding, encoding_errors, dialect, on_bad_lines, delim_whitespace, low_memory, memory_map, float_precision, storage_options, dtype_backend)\u001b[39m\n\u001b[32m   1013\u001b[39m kwds_defaults = _refine_defaults_read(\n\u001b[32m   1014\u001b[39m     dialect,\n\u001b[32m   1015\u001b[39m     delimiter,\n\u001b[32m   (...)\u001b[39m\u001b[32m   1022\u001b[39m     dtype_backend=dtype_backend,\n\u001b[32m   1023\u001b[39m )\n\u001b[32m   1024\u001b[39m kwds.update(kwds_defaults)\n\u001b[32m-> \u001b[39m\u001b[32m1026\u001b[39m \u001b[38;5;28;01mreturn\u001b[39;00m \u001b[43m_read\u001b[49m\u001b[43m(\u001b[49m\u001b[43mfilepath_or_buffer\u001b[49m\u001b[43m,\u001b[49m\u001b[43m \u001b[49m\u001b[43mkwds\u001b[49m\u001b[43m)\u001b[49m\n",
      "\u001b[36mFile \u001b[39m\u001b[32md:\\venvs\\ml_env\\Lib\\site-packages\\pandas\\io\\parsers\\readers.py:620\u001b[39m, in \u001b[36m_read\u001b[39m\u001b[34m(filepath_or_buffer, kwds)\u001b[39m\n\u001b[32m    617\u001b[39m _validate_names(kwds.get(\u001b[33m\"\u001b[39m\u001b[33mnames\u001b[39m\u001b[33m\"\u001b[39m, \u001b[38;5;28;01mNone\u001b[39;00m))\n\u001b[32m    619\u001b[39m \u001b[38;5;66;03m# Create the parser.\u001b[39;00m\n\u001b[32m--> \u001b[39m\u001b[32m620\u001b[39m parser = \u001b[43mTextFileReader\u001b[49m\u001b[43m(\u001b[49m\u001b[43mfilepath_or_buffer\u001b[49m\u001b[43m,\u001b[49m\u001b[43m \u001b[49m\u001b[43m*\u001b[49m\u001b[43m*\u001b[49m\u001b[43mkwds\u001b[49m\u001b[43m)\u001b[49m\n\u001b[32m    622\u001b[39m \u001b[38;5;28;01mif\u001b[39;00m chunksize \u001b[38;5;129;01mor\u001b[39;00m iterator:\n\u001b[32m    623\u001b[39m     \u001b[38;5;28;01mreturn\u001b[39;00m parser\n",
      "\u001b[36mFile \u001b[39m\u001b[32md:\\venvs\\ml_env\\Lib\\site-packages\\pandas\\io\\parsers\\readers.py:1620\u001b[39m, in \u001b[36mTextFileReader.__init__\u001b[39m\u001b[34m(self, f, engine, **kwds)\u001b[39m\n\u001b[32m   1617\u001b[39m     \u001b[38;5;28mself\u001b[39m.options[\u001b[33m\"\u001b[39m\u001b[33mhas_index_names\u001b[39m\u001b[33m\"\u001b[39m] = kwds[\u001b[33m\"\u001b[39m\u001b[33mhas_index_names\u001b[39m\u001b[33m\"\u001b[39m]\n\u001b[32m   1619\u001b[39m \u001b[38;5;28mself\u001b[39m.handles: IOHandles | \u001b[38;5;28;01mNone\u001b[39;00m = \u001b[38;5;28;01mNone\u001b[39;00m\n\u001b[32m-> \u001b[39m\u001b[32m1620\u001b[39m \u001b[38;5;28mself\u001b[39m._engine = \u001b[38;5;28;43mself\u001b[39;49m\u001b[43m.\u001b[49m\u001b[43m_make_engine\u001b[49m\u001b[43m(\u001b[49m\u001b[43mf\u001b[49m\u001b[43m,\u001b[49m\u001b[43m \u001b[49m\u001b[38;5;28;43mself\u001b[39;49m\u001b[43m.\u001b[49m\u001b[43mengine\u001b[49m\u001b[43m)\u001b[49m\n",
      "\u001b[36mFile \u001b[39m\u001b[32md:\\venvs\\ml_env\\Lib\\site-packages\\pandas\\io\\parsers\\readers.py:1880\u001b[39m, in \u001b[36mTextFileReader._make_engine\u001b[39m\u001b[34m(self, f, engine)\u001b[39m\n\u001b[32m   1878\u001b[39m     \u001b[38;5;28;01mif\u001b[39;00m \u001b[33m\"\u001b[39m\u001b[33mb\u001b[39m\u001b[33m\"\u001b[39m \u001b[38;5;129;01mnot\u001b[39;00m \u001b[38;5;129;01min\u001b[39;00m mode:\n\u001b[32m   1879\u001b[39m         mode += \u001b[33m\"\u001b[39m\u001b[33mb\u001b[39m\u001b[33m\"\u001b[39m\n\u001b[32m-> \u001b[39m\u001b[32m1880\u001b[39m \u001b[38;5;28mself\u001b[39m.handles = \u001b[43mget_handle\u001b[49m\u001b[43m(\u001b[49m\n\u001b[32m   1881\u001b[39m \u001b[43m    \u001b[49m\u001b[43mf\u001b[49m\u001b[43m,\u001b[49m\n\u001b[32m   1882\u001b[39m \u001b[43m    \u001b[49m\u001b[43mmode\u001b[49m\u001b[43m,\u001b[49m\n\u001b[32m   1883\u001b[39m \u001b[43m    \u001b[49m\u001b[43mencoding\u001b[49m\u001b[43m=\u001b[49m\u001b[38;5;28;43mself\u001b[39;49m\u001b[43m.\u001b[49m\u001b[43moptions\u001b[49m\u001b[43m.\u001b[49m\u001b[43mget\u001b[49m\u001b[43m(\u001b[49m\u001b[33;43m\"\u001b[39;49m\u001b[33;43mencoding\u001b[39;49m\u001b[33;43m\"\u001b[39;49m\u001b[43m,\u001b[49m\u001b[43m \u001b[49m\u001b[38;5;28;43;01mNone\u001b[39;49;00m\u001b[43m)\u001b[49m\u001b[43m,\u001b[49m\n\u001b[32m   1884\u001b[39m \u001b[43m    \u001b[49m\u001b[43mcompression\u001b[49m\u001b[43m=\u001b[49m\u001b[38;5;28;43mself\u001b[39;49m\u001b[43m.\u001b[49m\u001b[43moptions\u001b[49m\u001b[43m.\u001b[49m\u001b[43mget\u001b[49m\u001b[43m(\u001b[49m\u001b[33;43m\"\u001b[39;49m\u001b[33;43mcompression\u001b[39;49m\u001b[33;43m\"\u001b[39;49m\u001b[43m,\u001b[49m\u001b[43m \u001b[49m\u001b[38;5;28;43;01mNone\u001b[39;49;00m\u001b[43m)\u001b[49m\u001b[43m,\u001b[49m\n\u001b[32m   1885\u001b[39m \u001b[43m    \u001b[49m\u001b[43mmemory_map\u001b[49m\u001b[43m=\u001b[49m\u001b[38;5;28;43mself\u001b[39;49m\u001b[43m.\u001b[49m\u001b[43moptions\u001b[49m\u001b[43m.\u001b[49m\u001b[43mget\u001b[49m\u001b[43m(\u001b[49m\u001b[33;43m\"\u001b[39;49m\u001b[33;43mmemory_map\u001b[39;49m\u001b[33;43m\"\u001b[39;49m\u001b[43m,\u001b[49m\u001b[43m \u001b[49m\u001b[38;5;28;43;01mFalse\u001b[39;49;00m\u001b[43m)\u001b[49m\u001b[43m,\u001b[49m\n\u001b[32m   1886\u001b[39m \u001b[43m    \u001b[49m\u001b[43mis_text\u001b[49m\u001b[43m=\u001b[49m\u001b[43mis_text\u001b[49m\u001b[43m,\u001b[49m\n\u001b[32m   1887\u001b[39m \u001b[43m    \u001b[49m\u001b[43merrors\u001b[49m\u001b[43m=\u001b[49m\u001b[38;5;28;43mself\u001b[39;49m\u001b[43m.\u001b[49m\u001b[43moptions\u001b[49m\u001b[43m.\u001b[49m\u001b[43mget\u001b[49m\u001b[43m(\u001b[49m\u001b[33;43m\"\u001b[39;49m\u001b[33;43mencoding_errors\u001b[39;49m\u001b[33;43m\"\u001b[39;49m\u001b[43m,\u001b[49m\u001b[43m \u001b[49m\u001b[33;43m\"\u001b[39;49m\u001b[33;43mstrict\u001b[39;49m\u001b[33;43m\"\u001b[39;49m\u001b[43m)\u001b[49m\u001b[43m,\u001b[49m\n\u001b[32m   1888\u001b[39m \u001b[43m    \u001b[49m\u001b[43mstorage_options\u001b[49m\u001b[43m=\u001b[49m\u001b[38;5;28;43mself\u001b[39;49m\u001b[43m.\u001b[49m\u001b[43moptions\u001b[49m\u001b[43m.\u001b[49m\u001b[43mget\u001b[49m\u001b[43m(\u001b[49m\u001b[33;43m\"\u001b[39;49m\u001b[33;43mstorage_options\u001b[39;49m\u001b[33;43m\"\u001b[39;49m\u001b[43m,\u001b[49m\u001b[43m \u001b[49m\u001b[38;5;28;43;01mNone\u001b[39;49;00m\u001b[43m)\u001b[49m\u001b[43m,\u001b[49m\n\u001b[32m   1889\u001b[39m \u001b[43m\u001b[49m\u001b[43m)\u001b[49m\n\u001b[32m   1890\u001b[39m \u001b[38;5;28;01massert\u001b[39;00m \u001b[38;5;28mself\u001b[39m.handles \u001b[38;5;129;01mis\u001b[39;00m \u001b[38;5;129;01mnot\u001b[39;00m \u001b[38;5;28;01mNone\u001b[39;00m\n\u001b[32m   1891\u001b[39m f = \u001b[38;5;28mself\u001b[39m.handles.handle\n",
      "\u001b[36mFile \u001b[39m\u001b[32md:\\venvs\\ml_env\\Lib\\site-packages\\pandas\\io\\common.py:873\u001b[39m, in \u001b[36mget_handle\u001b[39m\u001b[34m(path_or_buf, mode, encoding, compression, memory_map, is_text, errors, storage_options)\u001b[39m\n\u001b[32m    868\u001b[39m \u001b[38;5;28;01melif\u001b[39;00m \u001b[38;5;28misinstance\u001b[39m(handle, \u001b[38;5;28mstr\u001b[39m):\n\u001b[32m    869\u001b[39m     \u001b[38;5;66;03m# Check whether the filename is to be opened in binary mode.\u001b[39;00m\n\u001b[32m    870\u001b[39m     \u001b[38;5;66;03m# Binary mode does not support 'encoding' and 'newline'.\u001b[39;00m\n\u001b[32m    871\u001b[39m     \u001b[38;5;28;01mif\u001b[39;00m ioargs.encoding \u001b[38;5;129;01mand\u001b[39;00m \u001b[33m\"\u001b[39m\u001b[33mb\u001b[39m\u001b[33m\"\u001b[39m \u001b[38;5;129;01mnot\u001b[39;00m \u001b[38;5;129;01min\u001b[39;00m ioargs.mode:\n\u001b[32m    872\u001b[39m         \u001b[38;5;66;03m# Encoding\u001b[39;00m\n\u001b[32m--> \u001b[39m\u001b[32m873\u001b[39m         handle = \u001b[38;5;28;43mopen\u001b[39;49m\u001b[43m(\u001b[49m\n\u001b[32m    874\u001b[39m \u001b[43m            \u001b[49m\u001b[43mhandle\u001b[49m\u001b[43m,\u001b[49m\n\u001b[32m    875\u001b[39m \u001b[43m            \u001b[49m\u001b[43mioargs\u001b[49m\u001b[43m.\u001b[49m\u001b[43mmode\u001b[49m\u001b[43m,\u001b[49m\n\u001b[32m    876\u001b[39m \u001b[43m            \u001b[49m\u001b[43mencoding\u001b[49m\u001b[43m=\u001b[49m\u001b[43mioargs\u001b[49m\u001b[43m.\u001b[49m\u001b[43mencoding\u001b[49m\u001b[43m,\u001b[49m\n\u001b[32m    877\u001b[39m \u001b[43m            \u001b[49m\u001b[43merrors\u001b[49m\u001b[43m=\u001b[49m\u001b[43merrors\u001b[49m\u001b[43m,\u001b[49m\n\u001b[32m    878\u001b[39m \u001b[43m            \u001b[49m\u001b[43mnewline\u001b[49m\u001b[43m=\u001b[49m\u001b[33;43m\"\u001b[39;49m\u001b[33;43m\"\u001b[39;49m\u001b[43m,\u001b[49m\n\u001b[32m    879\u001b[39m \u001b[43m        \u001b[49m\u001b[43m)\u001b[49m\n\u001b[32m    880\u001b[39m     \u001b[38;5;28;01melse\u001b[39;00m:\n\u001b[32m    881\u001b[39m         \u001b[38;5;66;03m# Binary mode\u001b[39;00m\n\u001b[32m    882\u001b[39m         handle = \u001b[38;5;28mopen\u001b[39m(handle, ioargs.mode)\n",
      "\u001b[31mFileNotFoundError\u001b[39m: [Errno 2] No such file or directory: 'coffee_sales.csv'"
     ]
    }
   ],
   "source": [
    "print(\"# --- 1. Initializing modules and loading data from dataset ---\")\n",
    "df = pd.read_csv('coffee_sales.csv')\n",
    "print(\"Original DataFrame Head:\")\n",
    "print(df.head())\n",
    "print(\"\\n\")"
   ]
  },
  {
   "cell_type": "code",
   "execution_count": null,
   "id": "89e77125",
   "metadata": {},
   "outputs": [],
   "source": [
    "print(\"# --- 2. Feature Engineering (Enhanced) ---\")\n",
    "df['date'] = pd.to_datetime(df['date'])\n",
    "df['datetime'] = pd.to_datetime(df['datetime'])\n"
   ]
  },
  {
   "cell_type": "code",
   "execution_count": null,
   "id": "4ea0c2a1",
   "metadata": {},
   "outputs": [],
   "source": [
    "df['hour'] = df['datetime'].dt.hour\n",
    "df['day_of_week'] = df['date'].dt.dayofweek\n",
    "df['month'] = df['date'].dt.month\n",
    "df['day_of_year'] = df['date'].dt.dayofyear # Added day of year\n"
   ]
  },
  {
   "cell_type": "code",
   "execution_count": null,
   "id": "e5fc40df",
   "metadata": {},
   "outputs": [],
   "source": [
    "le_coffee = LabelEncoder()\n",
    "le_cash = LabelEncoder()\n",
    "df['coffee_type_encoded'] = le_coffee.fit_transform(df['coffee_name']) # Renamed to avoid confusion\n",
    "df['cash_type_encoded'] = le_cash.fit_transform(df['cash_type']) # Renamed\n"
   ]
  },
  {
   "cell_type": "code",
   "execution_count": null,
   "id": "9c48b1b5",
   "metadata": {},
   "outputs": [],
   "source": [
    "daily_data = df.groupby('date').agg(\n",
    "    daily_revenue=('money', 'sum'),\n",
    "    daily_orders=('coffee_type_encoded', 'count'),\n",
    "    most_popular_coffee=('coffee_type_encoded', lambda x: x.mode()[0]),\n",
    "    avg_hour=('hour', 'mean'),\n",
    "    peak_hour=('hour', 'max'),\n",
    "    day_of_week=('day_of_week', 'first'),\n",
    "    month=('month', 'first'),\n",
    "    day_of_year=('day_of_year', 'first'), # Added day of year to daily_data\n",
    "    card_usage_ratio=('cash_type_encoded', 'mean')\n",
    ").reset_index()\n",
    "\n",
    "print(\"Average daily revenue: \", daily_data['daily_revenue'].mean())\n"
   ]
  },
  {
   "cell_type": "code",
   "execution_count": null,
   "id": "b61883c7",
   "metadata": {},
   "outputs": [],
   "source": [
    "# Sort by date to ensure correct lag calculation\n",
    "daily_data = daily_data.sort_values(by='date').reset_index(drop=True)\n",
    "\n",
    "# Lagged features for daily_revenue and daily_orders\n",
    "# Lag 1 day\n",
    "daily_data['daily_revenue_lag1'] = daily_data['daily_revenue'].shift(1)\n",
    "daily_data['daily_orders_lag1'] = daily_data['daily_orders'].shift(1)\n",
    "\n",
    "# Lag 7 days (to capture weekly seasonality)\n",
    "daily_data['daily_revenue_lag7'] = daily_data['daily_revenue'].shift(7)\n",
    "daily_data['daily_orders_lag7'] = daily_data['daily_orders'].shift(7)\n",
    "\n",
    "# Rolling mean features (e.g., 3-day rolling average)\n",
    "daily_data['daily_revenue_rolling_mean3'] = daily_data['daily_revenue'].rolling(window=3, min_periods=1).mean().shift(1)\n",
    "daily_data['daily_orders_rolling_mean3'] = daily_data['daily_orders'].rolling(window=3, min_periods=1).mean().shift(1)\n",
    "\n",
    "# Drop rows with NaN values introduced by shifting (typically the first few rows)\n",
    "daily_data = daily_data.dropna().reset_index(drop=True)\n",
    "\n",
    "print(\"Aggregated Daily Data with New Features Head:\")\n",
    "print(daily_data.head())\n",
    "print(\"\\n\")"
   ]
  },
  {
   "cell_type": "code",
   "execution_count": null,
   "id": "48349199",
   "metadata": {},
   "outputs": [],
   "source": [
    "def print_metrics(y_true, y_pred, model_name):\n",
    "    r2 = r2_score(y_true, y_pred)\n",
    "    mae = mean_absolute_error(y_true, y_pred)\n",
    "    rmse = np.sqrt(mean_squared_error(y_true, y_pred))\n",
    "    print(f\"{model_name} Metrics:\")\n",
    "    print(f\"R²: {r2:.3f}\")\n",
    "    print(f\"MAE: {mae:.3f}\")\n",
    "    print(f\"RMSE: {rmse:.3f}\\n\")"
   ]
  },
  {
   "cell_type": "code",
   "execution_count": null,
   "id": "02edfff0",
   "metadata": {},
   "outputs": [],
   "source": [
    "print(\"# --- 3. Data Preparation for Modeling ---\")\n",
    "\n",
    "# Define features and targets for Revenue Prediction\n",
    "# Note: 'daily_orders' is used as a feature for revenue prediction\n",
    "features_revenue = [\n",
    "    'daily_orders', 'most_popular_coffee', 'avg_hour', 'peak_hour',\n",
    "    'day_of_week', 'month', 'day_of_year', 'card_usage_ratio',\n",
    "    'daily_revenue_lag1', 'daily_orders_lag1',\n",
    "    'daily_revenue_lag7', 'daily_orders_lag7',\n",
    "    'daily_revenue_rolling_mean3', 'daily_orders_rolling_mean3'\n",
    "]\n",
    "X_revenue = daily_data[features_revenue]\n",
    "y_revenue = daily_data['daily_revenue']\n",
    "\n",
    "# Define features and targets for Demand Prediction\n",
    "# Note: 'daily_orders' is the target, so it's NOT a feature here.\n",
    "features_demand = [\n",
    "    'most_popular_coffee', 'avg_hour', 'peak_hour',\n",
    "    'day_of_week', 'month', 'day_of_year', 'card_usage_ratio',\n",
    "    'daily_orders_lag1', # Only lag of demand itself\n",
    "    'daily_orders_lag7', # Only lag of demand itself\n",
    "    'daily_orders_rolling_mean3' # Only rolling mean of demand itself\n",
    "]\n",
    "X_demand = daily_data[features_demand]\n",
    "y_demand = daily_data['daily_orders']\n",
    "\n",
    "# Time-based train-test split (80% train, 20% test)\n",
    "# Ensure the split maintains chronological order\n",
    "split_index = int(len(daily_data) * 0.8)\n",
    "\n",
    "X_revenue_train, X_revenue_test = X_revenue[:split_index], X_revenue[split_index:]\n",
    "y_revenue_train, y_revenue_test = y_revenue[:split_index], y_revenue[split_index:]\n",
    "\n",
    "X_demand_train, X_demand_test = X_demand[:split_index], X_demand[split_index:]\n",
    "y_demand_train, y_demand_test = y_demand[:split_index], y_demand[split_index:]\n",
    "\n",
    "print(f\"Train set size: {len(X_revenue_train)} samples\")\n",
    "print(f\"Test set size: {len(X_revenue_test)} samples\")\n",
    "\n",
    "# Scale numerical features\n",
    "scaler_revenue = StandardScaler()\n",
    "X_revenue_train_scaled = scaler_revenue.fit_transform(X_revenue_train)\n",
    "X_revenue_test_scaled = scaler_revenue.transform(X_revenue_test)\n",
    "\n",
    "scaler_demand = StandardScaler()\n",
    "X_demand_train_scaled = scaler_demand.fit_transform(X_demand_train)\n",
    "X_demand_test_scaled = scaler_demand.transform(X_demand_test)\n",
    "print(\"\\nFeatures scaled.\\n\")"
   ]
  },
  {
   "cell_type": "code",
   "execution_count": null,
   "id": "7ff76e83",
   "metadata": {},
   "outputs": [],
   "source": [
    "print(\"# --- 4. Model Training and Evaluation (Improved) ---\")"
   ]
  },
  {
   "cell_type": "code",
   "execution_count": null,
   "id": "1aeadfc6",
   "metadata": {},
   "outputs": [],
   "source": [
    "print(\"--- Linear Regression ---\")\n",
    "lr_revenue = LinearRegression()\n",
    "lr_revenue.fit(X_revenue_train_scaled, y_revenue_train)\n",
    "lr_revenue_pred = lr_revenue.predict(X_revenue_test_scaled)\n",
    "print_metrics(y_revenue_test, lr_revenue_pred, \"Revenue (Linear Regression)\")\n",
    "\n",
    "lr_demand = LinearRegression()\n",
    "lr_demand.fit(X_demand_train_scaled, y_demand_train)\n",
    "lr_demand_pred = lr_demand.predict(X_demand_test_scaled)\n",
    "print_metrics(y_demand_test, lr_demand_pred, \"Demand (Linear Regression)\")\n",
    "\n",
    "# --- Random Forest Regressor (with Hyperparameter Tuning) ---\n",
    "print(\"--- Random Forest Regressor (with Hyperparameter Tuning) ---\")\n",
    "\n",
    "# Parameter distribution for RandomizedSearchCV\n",
    "param_dist = {\n",
    "    'n_estimators': randint(100, 500),\n",
    "    'max_features': ['sqrt', 'log2', None], # 'auto' is deprecated, use 'sqrt'\n",
    "    'max_depth': randint(5, 20),\n",
    "    'min_samples_split': randint(2, 10),\n",
    "    'min_samples_leaf': randint(1, 5)\n",
    "}"
   ]
  },
  {
   "cell_type": "code",
   "execution_count": null,
   "id": "3767f371",
   "metadata": {},
   "outputs": [],
   "source": [
    "print(\"Tuning Random Forest for Revenue Prediction...\")\n",
    "rf_revenue = RandomForestRegressor(random_state=42)\n",
    "rand_search_revenue = RandomizedSearchCV(\n",
    "    estimator=rf_revenue,\n",
    "    param_distributions=param_dist,\n",
    "    n_iter=50, # Number of parameter settings that are sampled\n",
    "    cv=5, # Using 5-fold cross-validation\n",
    "    scoring='neg_mean_squared_error',\n",
    "    random_state=42,\n",
    "    n_jobs=-1, # Use all available cores\n",
    "    verbose=0\n",
    ")\n",
    "rand_search_revenue.fit(X_revenue_train_scaled, y_revenue_train)\n",
    "best_rf_revenue = rand_search_revenue.best_estimator_\n",
    "print(f\"Best parameters for Revenue RF: {rand_search_revenue.best_params_}\")\n",
    "\n",
    "rf_revenue_pred = best_rf_revenue.predict(X_revenue_test_scaled)\n",
    "print_metrics(y_revenue_test, rf_revenue_pred, \"Revenue (Tuned Random Forest)\")\n"
   ]
  },
  {
   "cell_type": "code",
   "execution_count": null,
   "id": "310f8fd0",
   "metadata": {},
   "outputs": [],
   "source": [
    "print(\"Tuning Random Forest for Demand Prediction...\")\n",
    "rf_demand = RandomForestRegressor(random_state=42)\n",
    "rand_search_demand = RandomizedSearchCV(\n",
    "    estimator=rf_demand,\n",
    "    param_distributions=param_dist,\n",
    "    n_iter=50, # Number of parameter settings that are sampled\n",
    "    cv=5,\n",
    "    scoring='neg_mean_squared_error',\n",
    "    random_state=42,\n",
    "    n_jobs=-1,\n",
    "    verbose=0\n",
    ")\n",
    "rand_search_demand.fit(X_demand_train_scaled, y_demand_train)\n",
    "best_rf_demand = rand_search_demand.best_estimator_\n",
    "print(f\"Best parameters for Demand RF: {rand_search_demand.best_params_}\")\n",
    "\n",
    "rf_demand_pred = best_rf_demand.predict(X_demand_test_scaled)\n",
    "print_metrics(y_demand_test, rf_demand_pred, \"Demand (Tuned Random Forest)\")"
   ]
  },
  {
   "cell_type": "code",
   "execution_count": null,
   "id": "6a41f81a",
   "metadata": {},
   "outputs": [],
   "source": [
    "print(\"--- Optional: Gradient Boosting Regressor ---\")\n",
    "# Gradient Boosting often performs very well on tabular data.\n",
    "# We can also tune its hyperparameters. For now, let's use default or reasonable ones.\n",
    "\n",
    "# For Revenue\n",
    "gbr_revenue = GradientBoostingRegressor(n_estimators=100, learning_rate=0.1, max_depth=3, random_state=42)\n",
    "gbr_revenue.fit(X_revenue_train_scaled, y_revenue_train)\n",
    "gbr_revenue_pred = gbr_revenue.predict(X_revenue_test_scaled)\n",
    "print_metrics(y_revenue_test, gbr_revenue_pred, \"Revenue (Gradient Boosting Regressor)\")\n",
    "\n",
    "# For Demand\n",
    "gbr_demand = GradientBoostingRegressor(n_estimators=100, learning_rate=0.1, max_depth=3, random_state=42)\n",
    "gbr_demand.fit(X_demand_train_scaled, y_demand_train)\n",
    "gbr_demand_pred = gbr_demand.predict(X_demand_test_scaled)\n",
    "print_metrics(y_demand_test, gbr_demand_pred, \"Demand (Gradient Boosting Regressor)\")"
   ]
  },
  {
   "cell_type": "code",
   "execution_count": null,
   "id": "3afe1b34",
   "metadata": {},
   "outputs": [],
   "source": [
    "print(\"# --- 5. Visualization of Predictions ---\")\n",
    "\n",
    "plt.figure(figsize=(15, 6))\n",
    "plt.subplot(1, 2, 1)\n",
    "plt.plot(daily_data['date'][split_index:], y_revenue_test, label='Actual Revenue')\n",
    "plt.plot(daily_data['date'][split_index:], rf_revenue_pred, label='RF Predicted Revenue', alpha=0.7)\n",
    "plt.title('Daily Revenue: Actual vs. RF Predicted')\n",
    "plt.xlabel('Date')\n",
    "plt.ylabel('Revenue')\n",
    "plt.legend()\n",
    "plt.xticks(rotation=45)\n",
    "plt.grid(True)\n",
    "\n",
    "plt.subplot(1, 2, 2)\n",
    "plt.plot(daily_data['date'][split_index:], y_demand_test, label='Actual Demand')\n",
    "plt.plot(daily_data['date'][split_index:], rf_demand_pred, label='RF Predicted Demand', alpha=0.7)\n",
    "plt.title('Daily Demand: Actual vs. RF Predicted')\n",
    "plt.xlabel('Date')\n",
    "plt.ylabel('Orders')\n",
    "plt.legend()\n",
    "plt.xticks(rotation=45)\n",
    "plt.grid(True)\n",
    "\n",
    "plt.tight_layout()\n",
    "plt.show()"
   ]
  }
 ],
 "metadata": {
  "kernelspec": {
   "display_name": "ml_env (3.11.8)",
   "language": "python",
   "name": "python3"
  },
  "language_info": {
   "codemirror_mode": {
    "name": "ipython",
    "version": 3
   },
   "file_extension": ".py",
   "mimetype": "text/x-python",
   "name": "python",
   "nbconvert_exporter": "python",
   "pygments_lexer": "ipython3",
   "version": "3.11.8"
  }
 },
 "nbformat": 4,
 "nbformat_minor": 5
}
